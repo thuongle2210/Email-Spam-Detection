{
  "nbformat": 4,
  "nbformat_minor": 0,
  "metadata": {
    "colab": {
      "name": "neural.ipynb",
      "provenance": [],
      "collapsed_sections": [
        "QytCmB99Itg8",
        "sA0ygH_hIzsM"
      ]
    },
    "kernelspec": {
      "name": "python3",
      "display_name": "Python 3"
    },
    "language_info": {
      "name": "python"
    }
  },
  "cells": [
    {
      "cell_type": "code",
      "source": [
        "!pwd"
      ],
      "metadata": {
        "colab": {
          "base_uri": "https://localhost:8080/"
        },
        "id": "8DYz6jO-qsn-",
        "outputId": "cca4052f-eeac-48d6-c04f-9a7020a931a5"
      },
      "execution_count": 60,
      "outputs": [
        {
          "output_type": "stream",
          "name": "stdout",
          "text": [
            "/content/drive/My Drive/nmAI/ass2\n"
          ]
        }
      ]
    },
    {
      "cell_type": "code",
      "source": [
        "from google.colab import drive\n",
        "drive.mount('/content/drive')"
      ],
      "metadata": {
        "colab": {
          "base_uri": "https://localhost:8080/"
        },
        "id": "hvG26NC2k1UO",
        "outputId": "686f8db5-2245-4a34-ecf9-38da8ad58ee8"
      },
      "execution_count": 64,
      "outputs": [
        {
          "output_type": "stream",
          "name": "stdout",
          "text": [
            "Drive already mounted at /content/drive; to attempt to forcibly remount, call drive.mount(\"/content/drive\", force_remount=True).\n"
          ]
        }
      ]
    },
    {
      "cell_type": "markdown",
      "source": [
        "### Tiền xử lý dữ liệu "
      ],
      "metadata": {
        "id": "8nvObWkqq7Jm"
      }
    },
    {
      "cell_type": "code",
      "source": [
        "import os, re, nltk\n",
        "nltk.download('stopwords')\n",
        "from nltk import corpus\n",
        "from numpy.lib.function_base import vectorize\n",
        "import pandas as pd\n",
        "from nltk.corpus import stopwords\n",
        "from sklearn.model_selection import train_test_split\n",
        "from sklearn.feature_extraction.text import TfidfVectorizer\n",
        "from sklearn import feature_extraction\n"
      ],
      "metadata": {
        "colab": {
          "base_uri": "https://localhost:8080/"
        },
        "id": "cgXYaKmJrLsl",
        "outputId": "1ce67859-0019-43a0-ea5a-c8ce66a3ab1d"
      },
      "execution_count": 65,
      "outputs": [
        {
          "output_type": "stream",
          "name": "stdout",
          "text": [
            "[nltk_data] Downloading package stopwords to /root/nltk_data...\n",
            "[nltk_data]   Package stopwords is already up-to-date!\n"
          ]
        }
      ]
    },
    {
      "cell_type": "code",
      "metadata": {
        "id": "SkUBHATGM_HW"
      },
      "source": [
        "\n",
        "\n",
        "class Email:\n",
        "    def __init__(self, content, label):\n",
        "        self.content = content\n",
        "        self.label = label\n",
        "        self.preprocessing()\n",
        "\n",
        "    def preprocessing(self):\n",
        "        self.content = self.content.lower()\n",
        "        for word in stopwords.words('english'):\n",
        "            self.content = re.sub(' ' + word + ' ',  ' ', self.content)\n",
        "        self.content = re.sub(r'\\n', ' ', self.content)\n",
        "        self.content = re.sub(r'^.+@[^\\.].*\\.[a-z]{2,}$', 'MailID', self.content)\n",
        "        self.content = re.sub(r'^http\\://[a-zA-Z0-9\\-\\.]+\\.[a-zA-Z]{2,3}(/\\S*)?$', 'Links', self.content)\n",
        "        self.content = re.sub(r'\\d+(\\.\\d+)?', 'numbers', self.content)\n",
        "        self.content = re.sub(r\"[^a-zA-Z0-9]+\", \" \", self.content)\n",
        "        self.content = re.sub(r'\\s+', ' ', self.content)\n",
        "        self.content = self.content.strip()\n",
        "\n",
        "    @staticmethod\n",
        "    def read():\n",
        "        if not os.path.exists('messages.csv'):\n",
        "            return []\n",
        "        df = pd.read_csv('messages.csv').dropna()\n",
        "        return list(map(lambda data: Email(data[0], data[1]), zip(df['subject'] + df['message'], df['label'])))\n",
        "\n",
        "    @staticmethod\n",
        "    def readTrainTestSplit():\n",
        "        data = Email.read()\n",
        "        df = pd.DataFrame()\n",
        "        df['message'] = [email.content for email in data]\n",
        "        f = feature_extraction.text.CountVectorizer()\n",
        "        df['label'] = [email.label for email in data]\n",
        "        return train_test_split(f.fit_transform(df['message']), df['label'], test_size=0.2, random_state=225, stratify=df['label'])\n",
        "        \n",
        "X_train, X_test, Y_train, Y_test = Email.readTrainTestSplit()\n"
      ],
      "execution_count": 66,
      "outputs": []
    },
    {
      "cell_type": "markdown",
      "source": [
        "###SVM"
      ],
      "metadata": {
        "id": "QytCmB99Itg8"
      }
    },
    {
      "cell_type": "code",
      "source": [
        "from sklearn.metrics import accuracy_score, precision_score, recall_score\n",
        "from sklearn.svm import SVC"
      ],
      "metadata": {
        "id": "D3u7sK6mI7ZE"
      },
      "execution_count": 67,
      "outputs": []
    },
    {
      "cell_type": "code",
      "source": [
        "# kernel = 'rbf'\n",
        "model1 = SVC(C=1.0, kernel='rbf')\n",
        "model1.fit(X_train,Y_train)\n",
        "y_pred = model1.predict(X_test)\n",
        "print(\"Accuracy : \", accuracy_score(y_pred,Y_test))\n",
        "print(\"Precision : \", precision_score(y_pred,Y_test, average ='weighted'))\n",
        "print(\"Recall : \", recall_score(y_pred,Y_test, average ='weighted'))"
      ],
      "metadata": {
        "colab": {
          "base_uri": "https://localhost:8080/"
        },
        "id": "0OSXwA68pcG2",
        "outputId": "2bf83dfd-a06a-4ce6-dd6d-9e875ce188ce"
      },
      "execution_count": 68,
      "outputs": [
        {
          "output_type": "stream",
          "name": "stdout",
          "text": [
            "Accuracy :  0.9241622574955908\n",
            "Precision :  0.9588539907688843\n",
            "Recall :  0.9241622574955908\n"
          ]
        }
      ]
    },
    {
      "cell_type": "code",
      "source": [
        "# kernel = 'linear'\n",
        "model3 = SVC(C=1.0, kernel='linear')\n",
        "model3.fit(X_train,Y_train)\n",
        "y_pred = model3.predict(X_test)\n",
        "print(\"Accuracy : \", accuracy_score(y_pred,Y_test))\n",
        "print(\"Precision : \", precision_score(y_pred,Y_test, average ='weighted'))\n",
        "print(\"Recall : \", recall_score(y_pred,Y_test, average ='weighted'))"
      ],
      "metadata": {
        "colab": {
          "base_uri": "https://localhost:8080/"
        },
        "id": "JKNJgfaK8-Ax",
        "outputId": "33c3b737-15e9-430b-cfb8-85dbe6803956"
      },
      "execution_count": 69,
      "outputs": [
        {
          "output_type": "stream",
          "name": "stdout",
          "text": [
            "Accuracy :  0.9947089947089947\n",
            "Precision :  0.9946976896506833\n",
            "Recall :  0.9947089947089947\n"
          ]
        }
      ]
    },
    {
      "cell_type": "markdown",
      "source": [
        "###Naive Baye"
      ],
      "metadata": {
        "id": "sA0ygH_hIzsM"
      }
    },
    {
      "cell_type": "code",
      "source": [
        "import numpy as np\n",
        "from sklearn import feature_extraction, model_selection, naive_bayes, metrics"
      ],
      "metadata": {
        "id": "JGJyXeJ0j5-4"
      },
      "execution_count": 70,
      "outputs": []
    },
    {
      "cell_type": "markdown",
      "source": [
        "We train different bayes models changing the regularization parameter $\\alpha$. <p>"
      ],
      "metadata": {
        "id": "cO0GmAQ-q5to"
      }
    },
    {
      "cell_type": "code",
      "source": [
        "# Chọn alpha\n",
        "\n",
        "list_alpha = np.arange(1/100000, 20, 0.1)\n",
        "score_train = np.zeros(len(list_alpha))\n",
        "score_test = np.zeros(len(list_alpha))\n",
        "recall_test = np.zeros(len(list_alpha))\n",
        "precision_test= np.zeros(len(list_alpha))\n",
        "count = 0\n",
        "for alpha in list_alpha:\n",
        "    bayes = naive_bayes.MultinomialNB(alpha=alpha)\n",
        "    bayes.fit(X_train, Y_train)\n",
        "    score_train[count] = bayes.score(X_train, Y_train)\n",
        "    score_test[count]= bayes.score(X_test, Y_test)\n",
        "    recall_test[count] = metrics.recall_score(Y_test, bayes.predict(X_test))\n",
        "    precision_test[count] = metrics.precision_score(Y_test, bayes.predict(X_test))\n",
        "    count = count + 1 "
      ],
      "metadata": {
        "id": "PHysaFo5q82k"
      },
      "execution_count": 71,
      "outputs": []
    },
    {
      "cell_type": "markdown",
      "source": [
        "Let's see the first 10 learning models and their metrics!"
      ],
      "metadata": {
        "id": "k4y3fvukuknw"
      }
    },
    {
      "cell_type": "code",
      "source": [
        "matrix = np.matrix(np.c_[list_alpha, score_train, score_test, recall_test, precision_test])\n",
        "models = pd.DataFrame(data = matrix, columns = \n",
        "             ['alpha', 'Train Accuracy', 'Test Accuracy', 'Test Recall', 'Test Precision'])\n",
        "models.head(n=10)"
      ],
      "metadata": {
        "colab": {
          "base_uri": "https://localhost:8080/",
          "height": 363
        },
        "id": "CB8n_CcmuewJ",
        "outputId": "860f5e12-d337-4df4-9d57-80a8896f528c"
      },
      "execution_count": 72,
      "outputs": [
        {
          "output_type": "execute_result",
          "data": {
            "text/html": [
              "\n",
              "  <div id=\"df-67710fee-b3d9-410b-b635-e993bd2e8f6f\">\n",
              "    <div class=\"colab-df-container\">\n",
              "      <div>\n",
              "<style scoped>\n",
              "    .dataframe tbody tr th:only-of-type {\n",
              "        vertical-align: middle;\n",
              "    }\n",
              "\n",
              "    .dataframe tbody tr th {\n",
              "        vertical-align: top;\n",
              "    }\n",
              "\n",
              "    .dataframe thead th {\n",
              "        text-align: right;\n",
              "    }\n",
              "</style>\n",
              "<table border=\"1\" class=\"dataframe\">\n",
              "  <thead>\n",
              "    <tr style=\"text-align: right;\">\n",
              "      <th></th>\n",
              "      <th>alpha</th>\n",
              "      <th>Train Accuracy</th>\n",
              "      <th>Test Accuracy</th>\n",
              "      <th>Test Recall</th>\n",
              "      <th>Test Precision</th>\n",
              "    </tr>\n",
              "  </thead>\n",
              "  <tbody>\n",
              "    <tr>\n",
              "      <th>0</th>\n",
              "      <td>0.00001</td>\n",
              "      <td>1.000000</td>\n",
              "      <td>0.998236</td>\n",
              "      <td>0.989362</td>\n",
              "      <td>1.000000</td>\n",
              "    </tr>\n",
              "    <tr>\n",
              "      <th>1</th>\n",
              "      <td>0.10001</td>\n",
              "      <td>0.998233</td>\n",
              "      <td>0.991182</td>\n",
              "      <td>1.000000</td>\n",
              "      <td>0.949495</td>\n",
              "    </tr>\n",
              "    <tr>\n",
              "      <th>2</th>\n",
              "      <td>0.20001</td>\n",
              "      <td>0.998233</td>\n",
              "      <td>0.991182</td>\n",
              "      <td>1.000000</td>\n",
              "      <td>0.949495</td>\n",
              "    </tr>\n",
              "    <tr>\n",
              "      <th>3</th>\n",
              "      <td>0.30001</td>\n",
              "      <td>0.998233</td>\n",
              "      <td>0.991182</td>\n",
              "      <td>1.000000</td>\n",
              "      <td>0.949495</td>\n",
              "    </tr>\n",
              "    <tr>\n",
              "      <th>4</th>\n",
              "      <td>0.40001</td>\n",
              "      <td>0.998233</td>\n",
              "      <td>0.991182</td>\n",
              "      <td>1.000000</td>\n",
              "      <td>0.949495</td>\n",
              "    </tr>\n",
              "    <tr>\n",
              "      <th>5</th>\n",
              "      <td>0.50001</td>\n",
              "      <td>0.997350</td>\n",
              "      <td>0.991182</td>\n",
              "      <td>1.000000</td>\n",
              "      <td>0.949495</td>\n",
              "    </tr>\n",
              "    <tr>\n",
              "      <th>6</th>\n",
              "      <td>0.60001</td>\n",
              "      <td>0.997350</td>\n",
              "      <td>0.991182</td>\n",
              "      <td>1.000000</td>\n",
              "      <td>0.949495</td>\n",
              "    </tr>\n",
              "    <tr>\n",
              "      <th>7</th>\n",
              "      <td>0.70001</td>\n",
              "      <td>0.997350</td>\n",
              "      <td>0.991182</td>\n",
              "      <td>1.000000</td>\n",
              "      <td>0.949495</td>\n",
              "    </tr>\n",
              "    <tr>\n",
              "      <th>8</th>\n",
              "      <td>0.80001</td>\n",
              "      <td>0.997350</td>\n",
              "      <td>0.991182</td>\n",
              "      <td>1.000000</td>\n",
              "      <td>0.949495</td>\n",
              "    </tr>\n",
              "    <tr>\n",
              "      <th>9</th>\n",
              "      <td>0.90001</td>\n",
              "      <td>0.997350</td>\n",
              "      <td>0.991182</td>\n",
              "      <td>1.000000</td>\n",
              "      <td>0.949495</td>\n",
              "    </tr>\n",
              "  </tbody>\n",
              "</table>\n",
              "</div>\n",
              "      <button class=\"colab-df-convert\" onclick=\"convertToInteractive('df-67710fee-b3d9-410b-b635-e993bd2e8f6f')\"\n",
              "              title=\"Convert this dataframe to an interactive table.\"\n",
              "              style=\"display:none;\">\n",
              "        \n",
              "  <svg xmlns=\"http://www.w3.org/2000/svg\" height=\"24px\"viewBox=\"0 0 24 24\"\n",
              "       width=\"24px\">\n",
              "    <path d=\"M0 0h24v24H0V0z\" fill=\"none\"/>\n",
              "    <path d=\"M18.56 5.44l.94 2.06.94-2.06 2.06-.94-2.06-.94-.94-2.06-.94 2.06-2.06.94zm-11 1L8.5 8.5l.94-2.06 2.06-.94-2.06-.94L8.5 2.5l-.94 2.06-2.06.94zm10 10l.94 2.06.94-2.06 2.06-.94-2.06-.94-.94-2.06-.94 2.06-2.06.94z\"/><path d=\"M17.41 7.96l-1.37-1.37c-.4-.4-.92-.59-1.43-.59-.52 0-1.04.2-1.43.59L10.3 9.45l-7.72 7.72c-.78.78-.78 2.05 0 2.83L4 21.41c.39.39.9.59 1.41.59.51 0 1.02-.2 1.41-.59l7.78-7.78 2.81-2.81c.8-.78.8-2.07 0-2.86zM5.41 20L4 18.59l7.72-7.72 1.47 1.35L5.41 20z\"/>\n",
              "  </svg>\n",
              "      </button>\n",
              "      \n",
              "  <style>\n",
              "    .colab-df-container {\n",
              "      display:flex;\n",
              "      flex-wrap:wrap;\n",
              "      gap: 12px;\n",
              "    }\n",
              "\n",
              "    .colab-df-convert {\n",
              "      background-color: #E8F0FE;\n",
              "      border: none;\n",
              "      border-radius: 50%;\n",
              "      cursor: pointer;\n",
              "      display: none;\n",
              "      fill: #1967D2;\n",
              "      height: 32px;\n",
              "      padding: 0 0 0 0;\n",
              "      width: 32px;\n",
              "    }\n",
              "\n",
              "    .colab-df-convert:hover {\n",
              "      background-color: #E2EBFA;\n",
              "      box-shadow: 0px 1px 2px rgba(60, 64, 67, 0.3), 0px 1px 3px 1px rgba(60, 64, 67, 0.15);\n",
              "      fill: #174EA6;\n",
              "    }\n",
              "\n",
              "    [theme=dark] .colab-df-convert {\n",
              "      background-color: #3B4455;\n",
              "      fill: #D2E3FC;\n",
              "    }\n",
              "\n",
              "    [theme=dark] .colab-df-convert:hover {\n",
              "      background-color: #434B5C;\n",
              "      box-shadow: 0px 1px 3px 1px rgba(0, 0, 0, 0.15);\n",
              "      filter: drop-shadow(0px 1px 2px rgba(0, 0, 0, 0.3));\n",
              "      fill: #FFFFFF;\n",
              "    }\n",
              "  </style>\n",
              "\n",
              "      <script>\n",
              "        const buttonEl =\n",
              "          document.querySelector('#df-67710fee-b3d9-410b-b635-e993bd2e8f6f button.colab-df-convert');\n",
              "        buttonEl.style.display =\n",
              "          google.colab.kernel.accessAllowed ? 'block' : 'none';\n",
              "\n",
              "        async function convertToInteractive(key) {\n",
              "          const element = document.querySelector('#df-67710fee-b3d9-410b-b635-e993bd2e8f6f');\n",
              "          const dataTable =\n",
              "            await google.colab.kernel.invokeFunction('convertToInteractive',\n",
              "                                                     [key], {});\n",
              "          if (!dataTable) return;\n",
              "\n",
              "          const docLinkHtml = 'Like what you see? Visit the ' +\n",
              "            '<a target=\"_blank\" href=https://colab.research.google.com/notebooks/data_table.ipynb>data table notebook</a>'\n",
              "            + ' to learn more about interactive tables.';\n",
              "          element.innerHTML = '';\n",
              "          dataTable['output_type'] = 'display_data';\n",
              "          await google.colab.output.renderOutput(dataTable, element);\n",
              "          const docLink = document.createElement('div');\n",
              "          docLink.innerHTML = docLinkHtml;\n",
              "          element.appendChild(docLink);\n",
              "        }\n",
              "      </script>\n",
              "    </div>\n",
              "  </div>\n",
              "  "
            ],
            "text/plain": [
              "     alpha  Train Accuracy  Test Accuracy  Test Recall  Test Precision\n",
              "0  0.00001        1.000000       0.998236     0.989362        1.000000\n",
              "1  0.10001        0.998233       0.991182     1.000000        0.949495\n",
              "2  0.20001        0.998233       0.991182     1.000000        0.949495\n",
              "3  0.30001        0.998233       0.991182     1.000000        0.949495\n",
              "4  0.40001        0.998233       0.991182     1.000000        0.949495\n",
              "5  0.50001        0.997350       0.991182     1.000000        0.949495\n",
              "6  0.60001        0.997350       0.991182     1.000000        0.949495\n",
              "7  0.70001        0.997350       0.991182     1.000000        0.949495\n",
              "8  0.80001        0.997350       0.991182     1.000000        0.949495\n",
              "9  0.90001        0.997350       0.991182     1.000000        0.949495"
            ]
          },
          "metadata": {},
          "execution_count": 72
        }
      ]
    },
    {
      "cell_type": "markdown",
      "source": [
        "I select the model with the most test precision"
      ],
      "metadata": {
        "id": "-dXG61QdvGdu"
      }
    },
    {
      "cell_type": "code",
      "source": [
        "best_index = models['Test Precision'].idxmax()\n",
        "models.iloc[best_index, :]"
      ],
      "metadata": {
        "colab": {
          "base_uri": "https://localhost:8080/"
        },
        "id": "zCp3Wt8lvOY4",
        "outputId": "2dcc5a0a-06dd-4cab-bad4-506ba4479d49"
      },
      "execution_count": 73,
      "outputs": [
        {
          "output_type": "execute_result",
          "data": {
            "text/plain": [
              "alpha             0.000010\n",
              "Train Accuracy    1.000000\n",
              "Test Accuracy     0.998236\n",
              "Test Recall       0.989362\n",
              "Test Precision    1.000000\n",
              "Name: 0, dtype: float64"
            ]
          },
          "metadata": {},
          "execution_count": 73
        }
      ]
    },
    {
      "cell_type": "markdown",
      "source": [
        "**My best model does not produce any false positive, which is our goal.** <p>\n",
        "Let's see if there is more than one model with 100% precision !"
      ],
      "metadata": {
        "id": "IgaxAtD3vvtl"
      }
    },
    {
      "cell_type": "code",
      "source": [
        "models[models['Test Precision']==1].head(n=10)"
      ],
      "metadata": {
        "colab": {
          "base_uri": "https://localhost:8080/",
          "height": 363
        },
        "id": "hfXR6ctGvxpK",
        "outputId": "041af637-676f-44ef-cfb5-adfd9e1226d6"
      },
      "execution_count": 74,
      "outputs": [
        {
          "output_type": "execute_result",
          "data": {
            "text/html": [
              "\n",
              "  <div id=\"df-45702bef-f7d2-49b6-b4f3-5881a90c255d\">\n",
              "    <div class=\"colab-df-container\">\n",
              "      <div>\n",
              "<style scoped>\n",
              "    .dataframe tbody tr th:only-of-type {\n",
              "        vertical-align: middle;\n",
              "    }\n",
              "\n",
              "    .dataframe tbody tr th {\n",
              "        vertical-align: top;\n",
              "    }\n",
              "\n",
              "    .dataframe thead th {\n",
              "        text-align: right;\n",
              "    }\n",
              "</style>\n",
              "<table border=\"1\" class=\"dataframe\">\n",
              "  <thead>\n",
              "    <tr style=\"text-align: right;\">\n",
              "      <th></th>\n",
              "      <th>alpha</th>\n",
              "      <th>Train Accuracy</th>\n",
              "      <th>Test Accuracy</th>\n",
              "      <th>Test Recall</th>\n",
              "      <th>Test Precision</th>\n",
              "    </tr>\n",
              "  </thead>\n",
              "  <tbody>\n",
              "    <tr>\n",
              "      <th>0</th>\n",
              "      <td>0.00001</td>\n",
              "      <td>1.000000</td>\n",
              "      <td>0.998236</td>\n",
              "      <td>0.989362</td>\n",
              "      <td>1.0</td>\n",
              "    </tr>\n",
              "    <tr>\n",
              "      <th>97</th>\n",
              "      <td>9.70001</td>\n",
              "      <td>0.983216</td>\n",
              "      <td>0.975309</td>\n",
              "      <td>0.851064</td>\n",
              "      <td>1.0</td>\n",
              "    </tr>\n",
              "    <tr>\n",
              "      <th>98</th>\n",
              "      <td>9.80001</td>\n",
              "      <td>0.982774</td>\n",
              "      <td>0.975309</td>\n",
              "      <td>0.851064</td>\n",
              "      <td>1.0</td>\n",
              "    </tr>\n",
              "    <tr>\n",
              "      <th>99</th>\n",
              "      <td>9.90001</td>\n",
              "      <td>0.982332</td>\n",
              "      <td>0.975309</td>\n",
              "      <td>0.851064</td>\n",
              "      <td>1.0</td>\n",
              "    </tr>\n",
              "    <tr>\n",
              "      <th>100</th>\n",
              "      <td>10.00001</td>\n",
              "      <td>0.982332</td>\n",
              "      <td>0.975309</td>\n",
              "      <td>0.851064</td>\n",
              "      <td>1.0</td>\n",
              "    </tr>\n",
              "    <tr>\n",
              "      <th>101</th>\n",
              "      <td>10.10001</td>\n",
              "      <td>0.981449</td>\n",
              "      <td>0.973545</td>\n",
              "      <td>0.840426</td>\n",
              "      <td>1.0</td>\n",
              "    </tr>\n",
              "    <tr>\n",
              "      <th>102</th>\n",
              "      <td>10.20001</td>\n",
              "      <td>0.981007</td>\n",
              "      <td>0.971781</td>\n",
              "      <td>0.829787</td>\n",
              "      <td>1.0</td>\n",
              "    </tr>\n",
              "    <tr>\n",
              "      <th>103</th>\n",
              "      <td>10.30001</td>\n",
              "      <td>0.980565</td>\n",
              "      <td>0.971781</td>\n",
              "      <td>0.829787</td>\n",
              "      <td>1.0</td>\n",
              "    </tr>\n",
              "    <tr>\n",
              "      <th>104</th>\n",
              "      <td>10.40001</td>\n",
              "      <td>0.980124</td>\n",
              "      <td>0.971781</td>\n",
              "      <td>0.829787</td>\n",
              "      <td>1.0</td>\n",
              "    </tr>\n",
              "    <tr>\n",
              "      <th>105</th>\n",
              "      <td>10.50001</td>\n",
              "      <td>0.979240</td>\n",
              "      <td>0.971781</td>\n",
              "      <td>0.829787</td>\n",
              "      <td>1.0</td>\n",
              "    </tr>\n",
              "  </tbody>\n",
              "</table>\n",
              "</div>\n",
              "      <button class=\"colab-df-convert\" onclick=\"convertToInteractive('df-45702bef-f7d2-49b6-b4f3-5881a90c255d')\"\n",
              "              title=\"Convert this dataframe to an interactive table.\"\n",
              "              style=\"display:none;\">\n",
              "        \n",
              "  <svg xmlns=\"http://www.w3.org/2000/svg\" height=\"24px\"viewBox=\"0 0 24 24\"\n",
              "       width=\"24px\">\n",
              "    <path d=\"M0 0h24v24H0V0z\" fill=\"none\"/>\n",
              "    <path d=\"M18.56 5.44l.94 2.06.94-2.06 2.06-.94-2.06-.94-.94-2.06-.94 2.06-2.06.94zm-11 1L8.5 8.5l.94-2.06 2.06-.94-2.06-.94L8.5 2.5l-.94 2.06-2.06.94zm10 10l.94 2.06.94-2.06 2.06-.94-2.06-.94-.94-2.06-.94 2.06-2.06.94z\"/><path d=\"M17.41 7.96l-1.37-1.37c-.4-.4-.92-.59-1.43-.59-.52 0-1.04.2-1.43.59L10.3 9.45l-7.72 7.72c-.78.78-.78 2.05 0 2.83L4 21.41c.39.39.9.59 1.41.59.51 0 1.02-.2 1.41-.59l7.78-7.78 2.81-2.81c.8-.78.8-2.07 0-2.86zM5.41 20L4 18.59l7.72-7.72 1.47 1.35L5.41 20z\"/>\n",
              "  </svg>\n",
              "      </button>\n",
              "      \n",
              "  <style>\n",
              "    .colab-df-container {\n",
              "      display:flex;\n",
              "      flex-wrap:wrap;\n",
              "      gap: 12px;\n",
              "    }\n",
              "\n",
              "    .colab-df-convert {\n",
              "      background-color: #E8F0FE;\n",
              "      border: none;\n",
              "      border-radius: 50%;\n",
              "      cursor: pointer;\n",
              "      display: none;\n",
              "      fill: #1967D2;\n",
              "      height: 32px;\n",
              "      padding: 0 0 0 0;\n",
              "      width: 32px;\n",
              "    }\n",
              "\n",
              "    .colab-df-convert:hover {\n",
              "      background-color: #E2EBFA;\n",
              "      box-shadow: 0px 1px 2px rgba(60, 64, 67, 0.3), 0px 1px 3px 1px rgba(60, 64, 67, 0.15);\n",
              "      fill: #174EA6;\n",
              "    }\n",
              "\n",
              "    [theme=dark] .colab-df-convert {\n",
              "      background-color: #3B4455;\n",
              "      fill: #D2E3FC;\n",
              "    }\n",
              "\n",
              "    [theme=dark] .colab-df-convert:hover {\n",
              "      background-color: #434B5C;\n",
              "      box-shadow: 0px 1px 3px 1px rgba(0, 0, 0, 0.15);\n",
              "      filter: drop-shadow(0px 1px 2px rgba(0, 0, 0, 0.3));\n",
              "      fill: #FFFFFF;\n",
              "    }\n",
              "  </style>\n",
              "\n",
              "      <script>\n",
              "        const buttonEl =\n",
              "          document.querySelector('#df-45702bef-f7d2-49b6-b4f3-5881a90c255d button.colab-df-convert');\n",
              "        buttonEl.style.display =\n",
              "          google.colab.kernel.accessAllowed ? 'block' : 'none';\n",
              "\n",
              "        async function convertToInteractive(key) {\n",
              "          const element = document.querySelector('#df-45702bef-f7d2-49b6-b4f3-5881a90c255d');\n",
              "          const dataTable =\n",
              "            await google.colab.kernel.invokeFunction('convertToInteractive',\n",
              "                                                     [key], {});\n",
              "          if (!dataTable) return;\n",
              "\n",
              "          const docLinkHtml = 'Like what you see? Visit the ' +\n",
              "            '<a target=\"_blank\" href=https://colab.research.google.com/notebooks/data_table.ipynb>data table notebook</a>'\n",
              "            + ' to learn more about interactive tables.';\n",
              "          element.innerHTML = '';\n",
              "          dataTable['output_type'] = 'display_data';\n",
              "          await google.colab.output.renderOutput(dataTable, element);\n",
              "          const docLink = document.createElement('div');\n",
              "          docLink.innerHTML = docLinkHtml;\n",
              "          element.appendChild(docLink);\n",
              "        }\n",
              "      </script>\n",
              "    </div>\n",
              "  </div>\n",
              "  "
            ],
            "text/plain": [
              "        alpha  Train Accuracy  Test Accuracy  Test Recall  Test Precision\n",
              "0     0.00001        1.000000       0.998236     0.989362             1.0\n",
              "97    9.70001        0.983216       0.975309     0.851064             1.0\n",
              "98    9.80001        0.982774       0.975309     0.851064             1.0\n",
              "99    9.90001        0.982332       0.975309     0.851064             1.0\n",
              "100  10.00001        0.982332       0.975309     0.851064             1.0\n",
              "101  10.10001        0.981449       0.973545     0.840426             1.0\n",
              "102  10.20001        0.981007       0.971781     0.829787             1.0\n",
              "103  10.30001        0.980565       0.971781     0.829787             1.0\n",
              "104  10.40001        0.980124       0.971781     0.829787             1.0\n",
              "105  10.50001        0.979240       0.971781     0.829787             1.0"
            ]
          },
          "metadata": {},
          "execution_count": 74
        }
      ]
    },
    {
      "cell_type": "markdown",
      "source": [
        "Between these models with the highest possible precision, we are going to select which has more test accuracy."
      ],
      "metadata": {
        "id": "AD1uxXSQHgmH"
      }
    },
    {
      "cell_type": "code",
      "source": [
        "best_index = models[models['Test Precision']==1]['Test Accuracy'].idxmax()\n",
        "bayes = naive_bayes.MultinomialNB(alpha=list_alpha[best_index])\n",
        "bayes.fit(X_train, Y_train)\n",
        "models.iloc[best_index, :]"
      ],
      "metadata": {
        "colab": {
          "base_uri": "https://localhost:8080/"
        },
        "id": "j5fLaq3MHiqE",
        "outputId": "d25aedd1-3749-4673-ecc2-ee07caa70047"
      },
      "execution_count": 75,
      "outputs": [
        {
          "output_type": "execute_result",
          "data": {
            "text/plain": [
              "alpha             0.000010\n",
              "Train Accuracy    1.000000\n",
              "Test Accuracy     0.998236\n",
              "Test Recall       0.989362\n",
              "Test Precision    1.000000\n",
              "Name: 0, dtype: float64"
            ]
          },
          "metadata": {},
          "execution_count": 75
        }
      ]
    },
    {
      "cell_type": "markdown",
      "source": [
        "Confusion matrix with naive bayes classifier"
      ],
      "metadata": {
        "id": "uuNVdSAjJa_E"
      }
    },
    {
      "cell_type": "code",
      "source": [
        "m_confusion_test = metrics.confusion_matrix(Y_test, bayes.predict(X_test))\n",
        "pd.DataFrame(data = m_confusion_test, columns = ['Predicted 0', 'Predicted 1'],\n",
        "            index = ['Actual 0', 'Actual 1'])"
      ],
      "metadata": {
        "colab": {
          "base_uri": "https://localhost:8080/",
          "height": 112
        },
        "id": "B2vdxXAbJW0x",
        "outputId": "33bf7db1-5652-4f58-b6f7-dad5365e56c1"
      },
      "execution_count": 76,
      "outputs": [
        {
          "output_type": "execute_result",
          "data": {
            "text/html": [
              "\n",
              "  <div id=\"df-6aff6959-0583-4e6f-8d82-57fa7b5dbeb4\">\n",
              "    <div class=\"colab-df-container\">\n",
              "      <div>\n",
              "<style scoped>\n",
              "    .dataframe tbody tr th:only-of-type {\n",
              "        vertical-align: middle;\n",
              "    }\n",
              "\n",
              "    .dataframe tbody tr th {\n",
              "        vertical-align: top;\n",
              "    }\n",
              "\n",
              "    .dataframe thead th {\n",
              "        text-align: right;\n",
              "    }\n",
              "</style>\n",
              "<table border=\"1\" class=\"dataframe\">\n",
              "  <thead>\n",
              "    <tr style=\"text-align: right;\">\n",
              "      <th></th>\n",
              "      <th>Predicted 0</th>\n",
              "      <th>Predicted 1</th>\n",
              "    </tr>\n",
              "  </thead>\n",
              "  <tbody>\n",
              "    <tr>\n",
              "      <th>Actual 0</th>\n",
              "      <td>473</td>\n",
              "      <td>0</td>\n",
              "    </tr>\n",
              "    <tr>\n",
              "      <th>Actual 1</th>\n",
              "      <td>1</td>\n",
              "      <td>93</td>\n",
              "    </tr>\n",
              "  </tbody>\n",
              "</table>\n",
              "</div>\n",
              "      <button class=\"colab-df-convert\" onclick=\"convertToInteractive('df-6aff6959-0583-4e6f-8d82-57fa7b5dbeb4')\"\n",
              "              title=\"Convert this dataframe to an interactive table.\"\n",
              "              style=\"display:none;\">\n",
              "        \n",
              "  <svg xmlns=\"http://www.w3.org/2000/svg\" height=\"24px\"viewBox=\"0 0 24 24\"\n",
              "       width=\"24px\">\n",
              "    <path d=\"M0 0h24v24H0V0z\" fill=\"none\"/>\n",
              "    <path d=\"M18.56 5.44l.94 2.06.94-2.06 2.06-.94-2.06-.94-.94-2.06-.94 2.06-2.06.94zm-11 1L8.5 8.5l.94-2.06 2.06-.94-2.06-.94L8.5 2.5l-.94 2.06-2.06.94zm10 10l.94 2.06.94-2.06 2.06-.94-2.06-.94-.94-2.06-.94 2.06-2.06.94z\"/><path d=\"M17.41 7.96l-1.37-1.37c-.4-.4-.92-.59-1.43-.59-.52 0-1.04.2-1.43.59L10.3 9.45l-7.72 7.72c-.78.78-.78 2.05 0 2.83L4 21.41c.39.39.9.59 1.41.59.51 0 1.02-.2 1.41-.59l7.78-7.78 2.81-2.81c.8-.78.8-2.07 0-2.86zM5.41 20L4 18.59l7.72-7.72 1.47 1.35L5.41 20z\"/>\n",
              "  </svg>\n",
              "      </button>\n",
              "      \n",
              "  <style>\n",
              "    .colab-df-container {\n",
              "      display:flex;\n",
              "      flex-wrap:wrap;\n",
              "      gap: 12px;\n",
              "    }\n",
              "\n",
              "    .colab-df-convert {\n",
              "      background-color: #E8F0FE;\n",
              "      border: none;\n",
              "      border-radius: 50%;\n",
              "      cursor: pointer;\n",
              "      display: none;\n",
              "      fill: #1967D2;\n",
              "      height: 32px;\n",
              "      padding: 0 0 0 0;\n",
              "      width: 32px;\n",
              "    }\n",
              "\n",
              "    .colab-df-convert:hover {\n",
              "      background-color: #E2EBFA;\n",
              "      box-shadow: 0px 1px 2px rgba(60, 64, 67, 0.3), 0px 1px 3px 1px rgba(60, 64, 67, 0.15);\n",
              "      fill: #174EA6;\n",
              "    }\n",
              "\n",
              "    [theme=dark] .colab-df-convert {\n",
              "      background-color: #3B4455;\n",
              "      fill: #D2E3FC;\n",
              "    }\n",
              "\n",
              "    [theme=dark] .colab-df-convert:hover {\n",
              "      background-color: #434B5C;\n",
              "      box-shadow: 0px 1px 3px 1px rgba(0, 0, 0, 0.15);\n",
              "      filter: drop-shadow(0px 1px 2px rgba(0, 0, 0, 0.3));\n",
              "      fill: #FFFFFF;\n",
              "    }\n",
              "  </style>\n",
              "\n",
              "      <script>\n",
              "        const buttonEl =\n",
              "          document.querySelector('#df-6aff6959-0583-4e6f-8d82-57fa7b5dbeb4 button.colab-df-convert');\n",
              "        buttonEl.style.display =\n",
              "          google.colab.kernel.accessAllowed ? 'block' : 'none';\n",
              "\n",
              "        async function convertToInteractive(key) {\n",
              "          const element = document.querySelector('#df-6aff6959-0583-4e6f-8d82-57fa7b5dbeb4');\n",
              "          const dataTable =\n",
              "            await google.colab.kernel.invokeFunction('convertToInteractive',\n",
              "                                                     [key], {});\n",
              "          if (!dataTable) return;\n",
              "\n",
              "          const docLinkHtml = 'Like what you see? Visit the ' +\n",
              "            '<a target=\"_blank\" href=https://colab.research.google.com/notebooks/data_table.ipynb>data table notebook</a>'\n",
              "            + ' to learn more about interactive tables.';\n",
              "          element.innerHTML = '';\n",
              "          dataTable['output_type'] = 'display_data';\n",
              "          await google.colab.output.renderOutput(dataTable, element);\n",
              "          const docLink = document.createElement('div');\n",
              "          docLink.innerHTML = docLinkHtml;\n",
              "          element.appendChild(docLink);\n",
              "        }\n",
              "      </script>\n",
              "    </div>\n",
              "  </div>\n",
              "  "
            ],
            "text/plain": [
              "          Predicted 0  Predicted 1\n",
              "Actual 0          473            0\n",
              "Actual 1            1           93"
            ]
          },
          "metadata": {},
          "execution_count": 76
        }
      ]
    },
    {
      "cell_type": "markdown",
      "source": [
        "### Neural\n"
      ],
      "metadata": {
        "id": "ZiZWPncTIlKd"
      }
    },
    {
      "cell_type": "code",
      "metadata": {
        "id": "7VS1cJ8YNIxt"
      },
      "source": [
        "#import các thư viện cần thiết \n",
        "\n",
        "import tensorflow.keras as keras\n",
        "from keras.models import  Sequential    \n",
        "from keras.layers import Dense ,Conv1D,MaxPooling1D,Flatten\n",
        "import matplotlib.pyplot as plt"
      ],
      "execution_count": 77,
      "outputs": []
    },
    {
      "cell_type": "code",
      "source": [
        "print(type(X_train))\n",
        "print(X_train)"
      ],
      "metadata": {
        "id": "L9UVz9n6k_3y",
        "colab": {
          "base_uri": "https://localhost:8080/"
        },
        "outputId": "e4710822-49e9-4c52-9db9-cfcf83503425"
      },
      "execution_count": 78,
      "outputs": [
        {
          "output_type": "stream",
          "name": "stdout",
          "text": [
            "<class 'scipy.sparse.csr.csr_matrix'>\n",
            "  (0, 24)\t1\n",
            "  (0, 1141)\t1\n",
            "  (0, 1153)\t1\n",
            "  (0, 1378)\t1\n",
            "  (0, 1724)\t1\n",
            "  (0, 1854)\t1\n",
            "  (0, 1910)\t2\n",
            "  (0, 2560)\t1\n",
            "  (0, 3959)\t1\n",
            "  (0, 3968)\t2\n",
            "  (0, 3969)\t1\n",
            "  (0, 4789)\t1\n",
            "  (0, 4962)\t1\n",
            "  (0, 9488)\t1\n",
            "  (0, 12239)\t1\n",
            "  (0, 12300)\t1\n",
            "  (0, 13581)\t1\n",
            "  (0, 16774)\t4\n",
            "  (0, 16776)\t1\n",
            "  (0, 16971)\t2\n",
            "  (0, 17208)\t1\n",
            "  (0, 17422)\t1\n",
            "  (0, 17532)\t1\n",
            "  (0, 17942)\t1\n",
            "  (0, 17944)\t1\n",
            "  :\t:\n",
            "  (2263, 52768)\t1\n",
            "  (2263, 52792)\t1\n",
            "  (2263, 52812)\t1\n",
            "  (2263, 53051)\t2\n",
            "  (2263, 53415)\t1\n",
            "  (2263, 53545)\t2\n",
            "  (2263, 53776)\t2\n",
            "  (2263, 54361)\t1\n",
            "  (2263, 54408)\t1\n",
            "  (2263, 54442)\t1\n",
            "  (2263, 54456)\t2\n",
            "  (2263, 54605)\t1\n",
            "  (2263, 54629)\t1\n",
            "  (2263, 54733)\t1\n",
            "  (2263, 54988)\t1\n",
            "  (2263, 55051)\t2\n",
            "  (2263, 55235)\t3\n",
            "  (2263, 55245)\t1\n",
            "  (2263, 55251)\t1\n",
            "  (2263, 55285)\t1\n",
            "  (2263, 55328)\t4\n",
            "  (2263, 55437)\t1\n",
            "  (2263, 55700)\t1\n",
            "  (2263, 55727)\t1\n",
            "  (2263, 56148)\t2\n"
          ]
        }
      ]
    },
    {
      "cell_type": "code",
      "source": [
        "#chuyển các data train /test thành dạng vector\n",
        "\n",
        "X_train=X_train.toarray()\n",
        "X_test=X_test.toarray()\n",
        "Y_train=Y_train.to_numpy()\n",
        "Y_test=Y_test.to_numpy()"
      ],
      "metadata": {
        "id": "lQn3HRZ1nIG5"
      },
      "execution_count": 79,
      "outputs": []
    },
    {
      "cell_type": "code",
      "source": [
        "print(type(X_train))\n",
        "print(X_train.shape)\n",
        "print(X_train)"
      ],
      "metadata": {
        "id": "VCg8FDdk1Yls",
        "colab": {
          "base_uri": "https://localhost:8080/"
        },
        "outputId": "d6d05a75-196f-4959-ec4d-d701fc0cc73b"
      },
      "execution_count": 80,
      "outputs": [
        {
          "output_type": "stream",
          "name": "stdout",
          "text": [
            "<class 'numpy.ndarray'>\n",
            "(2264, 56283)\n",
            "[[0 0 0 ... 0 0 0]\n",
            " [0 0 0 ... 0 0 0]\n",
            " [0 0 0 ... 0 0 0]\n",
            " ...\n",
            " [0 0 0 ... 0 0 0]\n",
            " [0 0 0 ... 0 0 0]\n",
            " [0 0 0 ... 0 0 0]]\n"
          ]
        }
      ]
    },
    {
      "cell_type": "code",
      "source": [
        "#xây dựng cấu trúc mô hình \n",
        "\n",
        "model = Sequential()\n",
        "model.add(Dense(256, activation='relu',input_dim=X_train.shape[1]))\n",
        "model.add(Dense(128, activation='relu'))\n",
        "model.add(Dense(64, activation='relu'))\n",
        "model.add(Dense(32, activation='relu'))\n",
        "model.add(Dense(16, activation='relu'))\n",
        "model.add(Dense(8, activation='relu'))\n",
        "model.add(Dense(1, activation='sigmoid'))\n",
        "model.compile(loss='binary_crossentropy', optimizer='adam', metrics=['accuracy'])\n",
        "model.summary()"
      ],
      "metadata": {
        "id": "C9qVeS5AIjLr",
        "colab": {
          "base_uri": "https://localhost:8080/"
        },
        "outputId": "611fc707-25c8-4795-95f4-b8ec41128f2d"
      },
      "execution_count": 81,
      "outputs": [
        {
          "output_type": "stream",
          "name": "stdout",
          "text": [
            "Model: \"sequential\"\n",
            "_________________________________________________________________\n",
            " Layer (type)                Output Shape              Param #   \n",
            "=================================================================\n",
            " dense (Dense)               (None, 256)               14408704  \n",
            "                                                                 \n",
            " dense_1 (Dense)             (None, 128)               32896     \n",
            "                                                                 \n",
            " dense_2 (Dense)             (None, 64)                8256      \n",
            "                                                                 \n",
            " dense_3 (Dense)             (None, 32)                2080      \n",
            "                                                                 \n",
            " dense_4 (Dense)             (None, 16)                528       \n",
            "                                                                 \n",
            " dense_5 (Dense)             (None, 8)                 136       \n",
            "                                                                 \n",
            " dense_6 (Dense)             (None, 1)                 9         \n",
            "                                                                 \n",
            "=================================================================\n",
            "Total params: 14,452,609\n",
            "Trainable params: 14,452,609\n",
            "Non-trainable params: 0\n",
            "_________________________________________________________________\n"
          ]
        }
      ]
    },
    {
      "cell_type": "code",
      "metadata": {
        "colab": {
          "base_uri": "https://localhost:8080/"
        },
        "id": "r5qm9Tf0NzmM",
        "outputId": "3a775d19-d2da-42a9-e296-db3efbd3420f"
      },
      "source": [
        "# huấn luyện mô hình \n",
        "\n",
        "history = model.fit(X_train, Y_train, validation_split = 0.1,epochs=5, batch_size=32,shuffle=True)\n"
      ],
      "execution_count": 82,
      "outputs": [
        {
          "output_type": "stream",
          "name": "stdout",
          "text": [
            "Epoch 1/5\n",
            "64/64 [==============================] - 7s 99ms/step - loss: 0.1427 - accuracy: 0.9705 - val_loss: 0.0238 - val_accuracy: 0.9956\n",
            "Epoch 2/5\n",
            "64/64 [==============================] - 6s 94ms/step - loss: 0.0042 - accuracy: 1.0000 - val_loss: 0.0735 - val_accuracy: 0.9868\n",
            "Epoch 3/5\n",
            "64/64 [==============================] - 6s 96ms/step - loss: 7.1126e-04 - accuracy: 1.0000 - val_loss: 0.0988 - val_accuracy: 0.9868\n",
            "Epoch 4/5\n",
            "64/64 [==============================] - 6s 94ms/step - loss: 2.6203e-04 - accuracy: 1.0000 - val_loss: 0.1163 - val_accuracy: 0.9868\n",
            "Epoch 5/5\n",
            "64/64 [==============================] - 6s 95ms/step - loss: 1.2711e-04 - accuracy: 1.0000 - val_loss: 0.1298 - val_accuracy: 0.9868\n"
          ]
        }
      ]
    },
    {
      "cell_type": "code",
      "source": [
        "#đánh giá mô hình\n",
        "\n",
        "results = model.evaluate(X_test, Y_test, batch_size=128)\n",
        "print(\"test loss, test acc:\", results)\n"
      ],
      "metadata": {
        "colab": {
          "base_uri": "https://localhost:8080/"
        },
        "id": "RBzN54wy1bnc",
        "outputId": "1a035d51-dea8-4968-e562-943bfbdadbe1"
      },
      "execution_count": 83,
      "outputs": [
        {
          "output_type": "stream",
          "name": "stdout",
          "text": [
            "5/5 [==============================] - 1s 84ms/step - loss: 0.0435 - accuracy: 0.9912\n",
            "test loss, test acc: [0.04351275414228439, 0.9911816716194153]\n"
          ]
        }
      ]
    },
    {
      "cell_type": "code",
      "source": [
        "\n",
        "# hiển thị lịch sử đào tạo\n",
        "\n",
        "print(history.history.keys())\n",
        "\n",
        "# summarize history for accuracy\n",
        "plt.plot(history.history['accuracy'])\n",
        "plt.plot(history.history['val_accuracy'])\n",
        "plt.title('model accuracy')\n",
        "plt.ylabel('accuracy')\n",
        "plt.xlabel('epoch')\n",
        "plt.legend(['train', 'test'], loc='upper left')\n",
        "plt.show()\n",
        "# summarize history for loss\n",
        "plt.plot(history.history['loss'])\n",
        "plt.plot(history.history['val_loss'])\n",
        "plt.title('model loss')\n",
        "plt.ylabel('loss')\n",
        "plt.xlabel('epoch')\n",
        "plt.legend(['train', 'test'], loc='upper left')\n",
        "plt.show()"
      ],
      "metadata": {
        "colab": {
          "base_uri": "https://localhost:8080/",
          "height": 591
        },
        "id": "LyoxXy-ZGNiK",
        "outputId": "aab1e505-f413-4f5c-fcee-016705d1f0d2"
      },
      "execution_count": 84,
      "outputs": [
        {
          "output_type": "stream",
          "name": "stdout",
          "text": [
            "dict_keys(['loss', 'accuracy', 'val_loss', 'val_accuracy'])\n"
          ]
        },
        {
          "output_type": "display_data",
          "data": {
            "image/png": "[encoded data removed]",
            "text/plain": [
              "<Figure size 432x288 with 1 Axes>"
            ]
          },
          "metadata": {
            "needs_background": "light"
          }
        },
        {
          "output_type": "display_data",
          "data": {
            "image/png": "[encoded data removed]",
            "text/plain": [
              "<Figure size 432x288 with 1 Axes>"
            ]
          },
          "metadata": {
            "needs_background": "light"
          }
        }
      ]
    },
    {
      "cell_type": "code",
      "source": [
        "model.save('model.h5')\n"
      ],
      "metadata": {
        "id": "heulYGOs8Iw-"
      },
      "execution_count": 85,
      "outputs": []
    }
  ]
}